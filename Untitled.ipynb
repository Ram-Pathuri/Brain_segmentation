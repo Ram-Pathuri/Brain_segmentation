{
 "cells": [
  {
   "cell_type": "code",
   "execution_count": 1,
   "id": "d4b80a59-f4ae-462c-911a-26d299932a06",
   "metadata": {},
   "outputs": [
    {
     "name": "stderr",
     "output_type": "stream",
     "text": [
      "/home/ec2-user/anaconda3/envs/tensorflow2_p310/lib/python3.10/site-packages/pydantic/_internal/_fields.py:192: UserWarning: Field name \"json\" in \"MonitoringDatasetFormat\" shadows an attribute in parent \"Base\"\n",
      "  warnings.warn(\n"
     ]
    },
    {
     "data": {
      "text/html": [
       "<pre style=\"white-space:pre;overflow-x:auto;line-height:normal;font-family:Menlo,'DejaVu Sans Mono',consolas,'Courier New',monospace\"><span style=\"color: #7fbfbf; text-decoration-color: #7fbfbf\">[03/29/25 15:52:00] </span><span style=\"color: #0069ff; text-decoration-color: #0069ff; font-weight: bold\">INFO    </span> Found credentials from IAM Role:                                   <a href=\"file:///home/ec2-user/anaconda3/envs/tensorflow2_p310/lib/python3.10/site-packages/botocore/credentials.py\" target=\"_blank\"><span style=\"color: #7f7f7f; text-decoration-color: #7f7f7f\">credentials.py</span></a><span style=\"color: #7f7f7f; text-decoration-color: #7f7f7f\">:</span><a href=\"file:///home/ec2-user/anaconda3/envs/tensorflow2_p310/lib/python3.10/site-packages/botocore/credentials.py#1132\" target=\"_blank\"><span style=\"color: #7f7f7f; text-decoration-color: #7f7f7f\">1132</span></a>\n",
       "<span style=\"color: #7fbfbf; text-decoration-color: #7fbfbf\">                    </span>         BaseNotebookInstanceEc2InstanceRole                                <span style=\"color: #7f7f7f; text-decoration-color: #7f7f7f\">                   </span>\n",
       "</pre>\n"
      ],
      "text/plain": [
       "\u001b[2;36m[03/29/25 15:52:00]\u001b[0m\u001b[2;36m \u001b[0m\u001b[1;38;2;0;105;255mINFO    \u001b[0m Found credentials from IAM Role:                                   \u001b]8;id=979544;file:///home/ec2-user/anaconda3/envs/tensorflow2_p310/lib/python3.10/site-packages/botocore/credentials.py\u001b\\\u001b[2mcredentials.py\u001b[0m\u001b]8;;\u001b\\\u001b[2m:\u001b[0m\u001b]8;id=152277;file:///home/ec2-user/anaconda3/envs/tensorflow2_p310/lib/python3.10/site-packages/botocore/credentials.py#1132\u001b\\\u001b[2m1132\u001b[0m\u001b]8;;\u001b\\\n",
       "\u001b[2;36m                    \u001b[0m         BaseNotebookInstanceEc2InstanceRole                                \u001b[2m                   \u001b[0m\n"
      ]
     },
     "metadata": {},
     "output_type": "display_data"
    },
    {
     "name": "stdout",
     "output_type": "stream",
     "text": [
      "sagemaker.config INFO - Not applying SDK defaults from location: /etc/xdg/sagemaker/config.yaml\n",
      "sagemaker.config INFO - Not applying SDK defaults from location: /home/ec2-user/.config/sagemaker/config.yaml\n"
     ]
    }
   ],
   "source": [
    "import pandas\n",
    "import boto3\n",
    "import sagemaker\n",
    "from sagemaker.session import s3_input,Session\n",
    "import pandas as pd\n",
    "import os\n",
    "import pickle"
   ]
  },
  {
   "cell_type": "code",
   "execution_count": 2,
   "id": "173cd4f2-8c95-493b-b961-204634be5cfc",
   "metadata": {},
   "outputs": [
    {
     "data": {
      "text/html": [
       "<pre style=\"white-space:pre;overflow-x:auto;line-height:normal;font-family:Menlo,'DejaVu Sans Mono',consolas,'Courier New',monospace\"><span style=\"color: #7fbfbf; text-decoration-color: #7fbfbf\">[03/29/25 15:52:22] </span><span style=\"color: #0069ff; text-decoration-color: #0069ff; font-weight: bold\">INFO    </span> Found credentials from IAM Role:                                   <a href=\"file:///home/ec2-user/anaconda3/envs/tensorflow2_p310/lib/python3.10/site-packages/botocore/credentials.py\" target=\"_blank\"><span style=\"color: #7f7f7f; text-decoration-color: #7f7f7f\">credentials.py</span></a><span style=\"color: #7f7f7f; text-decoration-color: #7f7f7f\">:</span><a href=\"file:///home/ec2-user/anaconda3/envs/tensorflow2_p310/lib/python3.10/site-packages/botocore/credentials.py#1132\" target=\"_blank\"><span style=\"color: #7f7f7f; text-decoration-color: #7f7f7f\">1132</span></a>\n",
       "<span style=\"color: #7fbfbf; text-decoration-color: #7fbfbf\">                    </span>         BaseNotebookInstanceEc2InstanceRole                                <span style=\"color: #7f7f7f; text-decoration-color: #7f7f7f\">                   </span>\n",
       "</pre>\n"
      ],
      "text/plain": [
       "\u001b[2;36m[03/29/25 15:52:22]\u001b[0m\u001b[2;36m \u001b[0m\u001b[1;38;2;0;105;255mINFO    \u001b[0m Found credentials from IAM Role:                                   \u001b]8;id=334511;file:///home/ec2-user/anaconda3/envs/tensorflow2_p310/lib/python3.10/site-packages/botocore/credentials.py\u001b\\\u001b[2mcredentials.py\u001b[0m\u001b]8;;\u001b\\\u001b[2m:\u001b[0m\u001b]8;id=153845;file:///home/ec2-user/anaconda3/envs/tensorflow2_p310/lib/python3.10/site-packages/botocore/credentials.py#1132\u001b\\\u001b[2m1132\u001b[0m\u001b]8;;\u001b\\\n",
       "\u001b[2;36m                    \u001b[0m         BaseNotebookInstanceEc2InstanceRole                                \u001b[2m                   \u001b[0m\n"
      ]
     },
     "metadata": {},
     "output_type": "display_data"
    }
   ],
   "source": [
    "s3 = boto3.client('s3')"
   ]
  },
  {
   "cell_type": "code",
   "execution_count": 3,
   "id": "150b7ede-acb6-4be6-a322-ce929769d332",
   "metadata": {},
   "outputs": [],
   "source": [
    "bucket_name = 'dataset.brain.ram'  # Replace with your bucket name\n",
    "zip_key = 'Train.zip'  # Replace with your zip file’s key\n",
    "local_zip_path = r'D:\\Data_sets\\IXI_data\\Train_2\\Train.zip'  # Full path to downloaded ZIP\n",
    "extract_path = r'D:\\Data_sets\\IXI_data\\Train_2\\extracted'\n"
   ]
  },
  {
   "cell_type": "code",
   "execution_count": 4,
   "id": "fe728987-f929-4faf-b7cb-4c63799ca227",
   "metadata": {},
   "outputs": [
    {
     "data": {
      "text/plain": [
       "\" prefix = 'extracted-data-brain'\\nextract_path = 's3://{}/{}/output'.format(bucket_name, prefix)\""
      ]
     },
     "execution_count": 4,
     "metadata": {},
     "output_type": "execute_result"
    }
   ],
   "source": [
    "\"\"\" prefix = 'extracted-data-brain'\n",
    "extract_path = 's3://{}/{}/output'.format(bucket_name, prefix)\"\"\"\n"
   ]
  },
  {
   "cell_type": "code",
   "execution_count": 8,
   "id": "42164be2-846d-41d1-b38d-b955f425500b",
   "metadata": {},
   "outputs": [],
   "source": [
    "s3.download_file(bucket_name, zip_key, local_zip_path)"
   ]
  },
  {
   "cell_type": "code",
   "execution_count": 9,
   "id": "b9d4f6f9-a2cb-45ab-98e5-5c033d8f0982",
   "metadata": {},
   "outputs": [],
   "source": [
    "import zipfile\n",
    "\n",
    "with zipfile.ZipFile(local_zip_path, 'r') as zip_ref:\n",
    "    zip_ref.extractall(extract_path)"
   ]
  },
  {
   "cell_type": "code",
   "execution_count": null,
   "id": "ca66cb49-18d0-4d2f-9722-2cbaee25565c",
   "metadata": {},
   "outputs": [],
   "source": [
    "\n",
    "\"\"\"train_folder = \"D:\\Data_sets\\IXI_data\\Train_2\\extracted/Train/\"\n",
    "\n",
    "data_list = []\n",
    "\n",
    "def pkload(fname):\n",
    "    with open(fname, 'rb') as f:\n",
    "        return pickle.load(f)\n",
    "\n",
    "for file in os.listdir(train_folder):\n",
    "    if file.endswith(\".pkl\"):  # Ensure it's a pickle file\n",
    "        file_path = os.path.join(train_folder, file)\n",
    "\n",
    "        image, label = pkload(file_path)\n",
    "\n",
    "        data_list.append({\n",
    "\n",
    "            \"image\": image,\n",
    "            \"label\": label\n",
    "        })\n",
    "\n",
    "\n",
    "df = pd.DataFrame(data_list)\"\"\"\n",
    "\n",
    "import os\n",
    "import pickle\n",
    "import pandas as pd\n",
    "from concurrent.futures import ThreadPoolExecutor\n",
    "\n",
    "train_folder = \"D:\\Data_sets\\IXI_data\\Train_2\\extracted/Train/\"\n",
    "\n",
    "def pkload(fname):\n",
    "    with open(fname, 'rb') as f:\n",
    "        return pickle.load(f)\n",
    "\n",
    "def load_file(file):\n",
    "    if file.endswith(\".pkl\"):\n",
    "        file_path = os.path.join(train_folder, file)\n",
    "        image, label = pkload(file_path)\n",
    "        return {\"image\": image, \"label\": label}\n",
    "    return None\n",
    "\n",
    "files = [f for f in os.listdir(train_folder)]\n",
    "with ThreadPoolExecutor() as executor:\n",
    "    data_list = list(filter(None, executor.map(load_file, files)))\n",
    "\n",
    "df = pd.DataFrame(data_list)\n"
   ]
  },
  {
   "cell_type": "code",
   "execution_count": 7,
   "id": "27498e8d-0c76-459a-929e-04309104df95",
   "metadata": {},
   "outputs": [
    {
     "data": {
      "text/html": [
       "<div>\n",
       "<style scoped>\n",
       "    .dataframe tbody tr th:only-of-type {\n",
       "        vertical-align: middle;\n",
       "    }\n",
       "\n",
       "    .dataframe tbody tr th {\n",
       "        vertical-align: top;\n",
       "    }\n",
       "\n",
       "    .dataframe thead th {\n",
       "        text-align: right;\n",
       "    }\n",
       "</style>\n",
       "<table border=\"1\" class=\"dataframe\">\n",
       "  <thead>\n",
       "    <tr style=\"text-align: right;\">\n",
       "      <th></th>\n",
       "      <th>image</th>\n",
       "      <th>label</th>\n",
       "    </tr>\n",
       "  </thead>\n",
       "  <tbody>\n",
       "    <tr>\n",
       "      <th>0</th>\n",
       "      <td>[[[0.0, 0.0, 0.0, 0.0, 0.0, 0.0, 0.0, 0.0, 0.0...</td>\n",
       "      <td>[[[0, 0, 0, 0, 0, 0, 0, 0, 0, 0, 0, 0, 0, 0, 0...</td>\n",
       "    </tr>\n",
       "  </tbody>\n",
       "</table>\n",
       "</div>"
      ],
      "text/plain": [
       "                                               image  \\\n",
       "0  [[[0.0, 0.0, 0.0, 0.0, 0.0, 0.0, 0.0, 0.0, 0.0...   \n",
       "\n",
       "                                               label  \n",
       "0  [[[0, 0, 0, 0, 0, 0, 0, 0, 0, 0, 0, 0, 0, 0, 0...  "
      ]
     },
     "execution_count": 7,
     "metadata": {},
     "output_type": "execute_result"
    }
   ],
   "source": [
    "df.head(1)"
   ]
  },
  {
   "cell_type": "code",
   "execution_count": 5,
   "id": "61116bef-4c04-4a5c-8055-469589c04221",
   "metadata": {},
   "outputs": [
    {
     "name": "stdout",
     "output_type": "stream",
     "text": [
      "Total unique labels: 46\n",
      "Labels: [  0   2   3   4   5   7   8  10  11  12  13  14  15  16  17  18  24  26\n",
      "  28  30  31  41  42  43  44  46  47  49  50  51  52  53  54  58  60  62\n",
      "  63  72  77  80  85 251 252 253 254 255]\n"
     ]
    }
   ],
   "source": [
    "import numpy as np\n",
    "\n",
    "unique_labels = df[\"label\"].apply(lambda x: np.unique(x))  # Get unique values in each 3D array\n",
    "all_unique_labels = np.unique(np.concatenate(unique_labels))  # Flatten and get unique labels\n",
    "\n",
    "print(f\"Total unique labels: {len(all_unique_labels)}\")\n",
    "print(f\"Labels: {all_unique_labels}\")"
   ]
  },
  {
   "cell_type": "code",
   "execution_count": 10,
   "id": "2632fc70-a10b-47b4-8235-2e954b628dd1",
   "metadata": {},
   "outputs": [],
   "source": []
  },
  {
   "cell_type": "code",
   "execution_count": 9,
   "id": "1b667394-e640-44b1-851d-59cdabf98643",
   "metadata": {},
   "outputs": [
    {
     "data": {
      "text/html": [
       "<pre style=\"white-space:pre;overflow-x:auto;line-height:normal;font-family:Menlo,'DejaVu Sans Mono',consolas,'Courier New',monospace\"><span style=\"color: #7fbfbf; text-decoration-color: #7fbfbf\">[03/29/25 03:52:54] </span><span style=\"color: #d7af00; text-decoration-color: #d7af00; font-weight: bold\">WARNING </span> Matplotlib is building the font cache; this may take a moment.    <a href=\"file:///home/ec2-user/anaconda3/envs/tensorflow2_p310/lib/python3.10/site-packages/matplotlib/font_manager.py\" target=\"_blank\"><span style=\"color: #7f7f7f; text-decoration-color: #7f7f7f\">font_manager.py</span></a><span style=\"color: #7f7f7f; text-decoration-color: #7f7f7f\">:</span><a href=\"file:///home/ec2-user/anaconda3/envs/tensorflow2_p310/lib/python3.10/site-packages/matplotlib/font_manager.py#1095\" target=\"_blank\"><span style=\"color: #7f7f7f; text-decoration-color: #7f7f7f\">1095</span></a>\n",
       "</pre>\n"
      ],
      "text/plain": [
       "\u001b[2;36m[03/29/25 03:52:54]\u001b[0m\u001b[2;36m \u001b[0m\u001b[1;38;2;215;175;0mWARNING \u001b[0m Matplotlib is building the font cache; this may take a moment.    \u001b]8;id=100671;file:///home/ec2-user/anaconda3/envs/tensorflow2_p310/lib/python3.10/site-packages/matplotlib/font_manager.py\u001b\\\u001b[2mfont_manager.py\u001b[0m\u001b]8;;\u001b\\\u001b[2m:\u001b[0m\u001b]8;id=697323;file:///home/ec2-user/anaconda3/envs/tensorflow2_p310/lib/python3.10/site-packages/matplotlib/font_manager.py#1095\u001b\\\u001b[2m1095\u001b[0m\u001b]8;;\u001b\\\n"
      ]
     },
     "metadata": {},
     "output_type": "display_data"
    },
    {
     "data": {
      "text/html": [
       "<pre style=\"white-space:pre;overflow-x:auto;line-height:normal;font-family:Menlo,'DejaVu Sans Mono',consolas,'Courier New',monospace\"><span style=\"color: #7fbfbf; text-decoration-color: #7fbfbf\">[03/29/25 03:52:56] </span><span style=\"color: #0069ff; text-decoration-color: #0069ff; font-weight: bold\">INFO    </span> generated new fontManager                                         <a href=\"file:///home/ec2-user/anaconda3/envs/tensorflow2_p310/lib/python3.10/site-packages/matplotlib/font_manager.py\" target=\"_blank\"><span style=\"color: #7f7f7f; text-decoration-color: #7f7f7f\">font_manager.py</span></a><span style=\"color: #7f7f7f; text-decoration-color: #7f7f7f\">:</span><a href=\"file:///home/ec2-user/anaconda3/envs/tensorflow2_p310/lib/python3.10/site-packages/matplotlib/font_manager.py#1639\" target=\"_blank\"><span style=\"color: #7f7f7f; text-decoration-color: #7f7f7f\">1639</span></a>\n",
       "</pre>\n"
      ],
      "text/plain": [
       "\u001b[2;36m[03/29/25 03:52:56]\u001b[0m\u001b[2;36m \u001b[0m\u001b[1;38;2;0;105;255mINFO    \u001b[0m generated new fontManager                                         \u001b]8;id=587703;file:///home/ec2-user/anaconda3/envs/tensorflow2_p310/lib/python3.10/site-packages/matplotlib/font_manager.py\u001b\\\u001b[2mfont_manager.py\u001b[0m\u001b]8;;\u001b\\\u001b[2m:\u001b[0m\u001b]8;id=683096;file:///home/ec2-user/anaconda3/envs/tensorflow2_p310/lib/python3.10/site-packages/matplotlib/font_manager.py#1639\u001b\\\u001b[2m1639\u001b[0m\u001b]8;;\u001b\\\n"
      ]
     },
     "metadata": {},
     "output_type": "display_data"
    },
    {
     "data": {
      "image/png": "[encoded data removed]",
      "text/plain": [
       "<Figure size 640x480 with 2 Axes>"
      ]
     },
     "metadata": {},
     "output_type": "display_data"
    }
   ],
   "source": [
    "import matplotlib.pyplot as plt\n",
    "sample_image = df[\"image\"][0]  # Select an image\n",
    "plt.imshow(sample_image[:, :, 80], cmap=\"gray\")  # View the 80th slice along the depth\n",
    "plt.colorbar()\n",
    "plt.title(\"MRI Slice\")\n",
    "plt.show()"
   ]
  },
  {
   "cell_type": "code",
   "execution_count": 6,
   "id": "0e8ed5d1-d9f6-4eeb-8d1c-9fca0be4ea18",
   "metadata": {},
   "outputs": [
    {
     "name": "stdout",
     "output_type": "stream",
     "text": [
      "\u001b[31mERROR: Could not find a version that satisfies the requirement tensorflow==2.1 (from versions: 2.8.0rc0, 2.8.0rc1, 2.8.0, 2.8.1, 2.8.2, 2.8.3, 2.8.4, 2.9.0rc0, 2.9.0rc1, 2.9.0rc2, 2.9.0, 2.9.1, 2.9.2, 2.9.3, 2.10.0rc0, 2.10.0rc1, 2.10.0rc2, 2.10.0rc3, 2.10.0, 2.10.1, 2.11.0rc0, 2.11.0rc1, 2.11.0rc2, 2.11.0, 2.11.1, 2.12.0rc0, 2.12.0rc1, 2.12.0, 2.12.1, 2.13.0rc0, 2.13.0rc1, 2.13.0rc2, 2.13.0, 2.13.1, 2.14.0rc0, 2.14.0rc1, 2.14.0, 2.14.1, 2.15.0rc0, 2.15.0rc1, 2.15.0, 2.15.0.post1, 2.15.1, 2.16.0rc0, 2.16.1, 2.16.2, 2.17.0rc0, 2.17.0rc1, 2.17.0, 2.17.1, 2.18.0rc0, 2.18.0rc1, 2.18.0rc2, 2.18.0, 2.18.1, 2.19.0rc0, 2.19.0)\u001b[0m\u001b[31m\n",
      "\u001b[0m\u001b[31mERROR: No matching distribution found for tensorflow==2.1\u001b[0m\u001b[31m\n",
      "\u001b[31mERROR: pip's dependency resolver does not currently take into account all the packages that are installed. This behaviour is the source of the following dependency conflicts.\n",
      "tensorflow 2.15.1 requires keras<2.16,>=2.15.0, but you have keras 2.3.1 which is incompatible.\n",
      "tf-keras 2.16.0 requires tensorflow<2.17,>=2.16, but you have tensorflow 2.15.1 which is incompatible.\u001b[0m\u001b[31m\n",
      "\u001b[31mERROR: Invalid requirement: 'tensorflow-estimator==2.1.': Expected end or semicolon (after version specifier)\n",
      "    tensorflow-estimator==2.1.\n",
      "                        ~~~~~^\u001b[0m\u001b[31m\n",
      "\u001b[0m"
     ]
    }
   ],
   "source": [
    "!pip install -U -q segmentation-models\n",
    "!pip install -q tensorflow==2.1\n",
    "!pip install -q keras==2.3.1\n",
    "!pip install -q tensorflow-estimator==2.1."
   ]
  },
  {
   "cell_type": "code",
   "execution_count": 7,
   "id": "fb76b618-3054-4588-9afc-1e79aa03c917",
   "metadata": {},
   "outputs": [
    {
     "name": "stdout",
     "output_type": "stream",
     "text": [
      "Requirement already satisfied: keras in /home/ec2-user/anaconda3/envs/tensorflow2_p310/lib/python3.10/site-packages (2.3.1)\n",
      "Requirement already satisfied: numpy>=1.9.1 in /home/ec2-user/anaconda3/envs/tensorflow2_p310/lib/python3.10/site-packages (from keras) (1.26.4)\n",
      "Requirement already satisfied: scipy>=0.14 in /home/ec2-user/anaconda3/envs/tensorflow2_p310/lib/python3.10/site-packages (from keras) (1.15.1)\n",
      "Requirement already satisfied: six>=1.9.0 in /home/ec2-user/anaconda3/envs/tensorflow2_p310/lib/python3.10/site-packages (from keras) (1.17.0)\n",
      "Requirement already satisfied: pyyaml in /home/ec2-user/anaconda3/envs/tensorflow2_p310/lib/python3.10/site-packages (from keras) (6.0.2)\n",
      "Requirement already satisfied: h5py in /home/ec2-user/anaconda3/envs/tensorflow2_p310/lib/python3.10/site-packages (from keras) (3.12.1)\n",
      "Requirement already satisfied: keras-applications>=1.0.6 in /home/ec2-user/anaconda3/envs/tensorflow2_p310/lib/python3.10/site-packages (from keras) (1.0.8)\n",
      "Requirement already satisfied: keras-preprocessing>=1.0.5 in /home/ec2-user/anaconda3/envs/tensorflow2_p310/lib/python3.10/site-packages (from keras) (1.1.2)\n",
      "Note: you may need to restart the kernel to use updated packages.\n"
     ]
    }
   ],
   "source": [
    "pip install keras"
   ]
  },
  {
   "cell_type": "code",
   "execution_count": 8,
   "id": "a43a1432-3ff2-4f71-b6df-c9acf8cc18b3",
   "metadata": {},
   "outputs": [
    {
     "name": "stdout",
     "output_type": "stream",
     "text": [
      "Requirement already satisfied: tensorflow-addons[tensorflow] in /home/ec2-user/anaconda3/envs/tensorflow2_p310/lib/python3.10/site-packages (0.23.0)\n",
      "Requirement already satisfied: packaging in /home/ec2-user/anaconda3/envs/tensorflow2_p310/lib/python3.10/site-packages (from tensorflow-addons[tensorflow]) (21.3)\n",
      "Requirement already satisfied: typeguard<3.0.0,>=2.7 in /home/ec2-user/anaconda3/envs/tensorflow2_p310/lib/python3.10/site-packages (from tensorflow-addons[tensorflow]) (2.13.3)\n",
      "Requirement already satisfied: tensorflow<2.16.0,>=2.13.0 in /home/ec2-user/anaconda3/envs/tensorflow2_p310/lib/python3.10/site-packages (from tensorflow-addons[tensorflow]) (2.15.1)\n",
      "Requirement already satisfied: absl-py>=1.0.0 in /home/ec2-user/anaconda3/envs/tensorflow2_p310/lib/python3.10/site-packages (from tensorflow<2.16.0,>=2.13.0->tensorflow-addons[tensorflow]) (2.1.0)\n",
      "Requirement already satisfied: astunparse>=1.6.0 in /home/ec2-user/anaconda3/envs/tensorflow2_p310/lib/python3.10/site-packages (from tensorflow<2.16.0,>=2.13.0->tensorflow-addons[tensorflow]) (1.6.3)\n",
      "Requirement already satisfied: flatbuffers>=23.5.26 in /home/ec2-user/anaconda3/envs/tensorflow2_p310/lib/python3.10/site-packages (from tensorflow<2.16.0,>=2.13.0->tensorflow-addons[tensorflow]) (25.2.10)\n",
      "Requirement already satisfied: gast!=0.5.0,!=0.5.1,!=0.5.2,>=0.2.1 in /home/ec2-user/anaconda3/envs/tensorflow2_p310/lib/python3.10/site-packages (from tensorflow<2.16.0,>=2.13.0->tensorflow-addons[tensorflow]) (0.6.0)\n",
      "Requirement already satisfied: google-pasta>=0.1.1 in /home/ec2-user/anaconda3/envs/tensorflow2_p310/lib/python3.10/site-packages (from tensorflow<2.16.0,>=2.13.0->tensorflow-addons[tensorflow]) (0.2.0)\n",
      "Requirement already satisfied: h5py>=2.9.0 in /home/ec2-user/anaconda3/envs/tensorflow2_p310/lib/python3.10/site-packages (from tensorflow<2.16.0,>=2.13.0->tensorflow-addons[tensorflow]) (3.12.1)\n",
      "Requirement already satisfied: libclang>=13.0.0 in /home/ec2-user/anaconda3/envs/tensorflow2_p310/lib/python3.10/site-packages (from tensorflow<2.16.0,>=2.13.0->tensorflow-addons[tensorflow]) (18.1.1)\n",
      "Requirement already satisfied: ml-dtypes~=0.3.1 in /home/ec2-user/anaconda3/envs/tensorflow2_p310/lib/python3.10/site-packages (from tensorflow<2.16.0,>=2.13.0->tensorflow-addons[tensorflow]) (0.3.2)\n",
      "Requirement already satisfied: numpy<2.0.0,>=1.23.5 in /home/ec2-user/anaconda3/envs/tensorflow2_p310/lib/python3.10/site-packages (from tensorflow<2.16.0,>=2.13.0->tensorflow-addons[tensorflow]) (1.26.4)\n",
      "Requirement already satisfied: opt-einsum>=2.3.2 in /home/ec2-user/anaconda3/envs/tensorflow2_p310/lib/python3.10/site-packages (from tensorflow<2.16.0,>=2.13.0->tensorflow-addons[tensorflow]) (3.4.0)\n",
      "Requirement already satisfied: protobuf!=4.21.0,!=4.21.1,!=4.21.2,!=4.21.3,!=4.21.4,!=4.21.5,<5.0.0dev,>=3.20.3 in /home/ec2-user/anaconda3/envs/tensorflow2_p310/lib/python3.10/site-packages (from tensorflow<2.16.0,>=2.13.0->tensorflow-addons[tensorflow]) (4.25.6)\n",
      "Requirement already satisfied: setuptools in /home/ec2-user/anaconda3/envs/tensorflow2_p310/lib/python3.10/site-packages (from tensorflow<2.16.0,>=2.13.0->tensorflow-addons[tensorflow]) (75.8.0)\n",
      "Requirement already satisfied: six>=1.12.0 in /home/ec2-user/anaconda3/envs/tensorflow2_p310/lib/python3.10/site-packages (from tensorflow<2.16.0,>=2.13.0->tensorflow-addons[tensorflow]) (1.17.0)\n",
      "Requirement already satisfied: termcolor>=1.1.0 in /home/ec2-user/anaconda3/envs/tensorflow2_p310/lib/python3.10/site-packages (from tensorflow<2.16.0,>=2.13.0->tensorflow-addons[tensorflow]) (2.5.0)\n",
      "Requirement already satisfied: typing-extensions>=3.6.6 in /home/ec2-user/anaconda3/envs/tensorflow2_p310/lib/python3.10/site-packages (from tensorflow<2.16.0,>=2.13.0->tensorflow-addons[tensorflow]) (4.12.2)\n",
      "Requirement already satisfied: wrapt<1.15,>=1.11.0 in /home/ec2-user/anaconda3/envs/tensorflow2_p310/lib/python3.10/site-packages (from tensorflow<2.16.0,>=2.13.0->tensorflow-addons[tensorflow]) (1.14.1)\n",
      "Requirement already satisfied: tensorflow-io-gcs-filesystem>=0.23.1 in /home/ec2-user/anaconda3/envs/tensorflow2_p310/lib/python3.10/site-packages (from tensorflow<2.16.0,>=2.13.0->tensorflow-addons[tensorflow]) (0.37.1)\n",
      "Requirement already satisfied: grpcio<2.0,>=1.24.3 in /home/ec2-user/anaconda3/envs/tensorflow2_p310/lib/python3.10/site-packages (from tensorflow<2.16.0,>=2.13.0->tensorflow-addons[tensorflow]) (1.70.0)\n",
      "Requirement already satisfied: tensorboard<2.16,>=2.15 in /home/ec2-user/anaconda3/envs/tensorflow2_p310/lib/python3.10/site-packages (from tensorflow<2.16.0,>=2.13.0->tensorflow-addons[tensorflow]) (2.15.2)\n",
      "Requirement already satisfied: tensorflow-estimator<2.16,>=2.15.0 in /home/ec2-user/anaconda3/envs/tensorflow2_p310/lib/python3.10/site-packages (from tensorflow<2.16.0,>=2.13.0->tensorflow-addons[tensorflow]) (2.15.0)\n",
      "Collecting keras<2.16,>=2.15.0 (from tensorflow<2.16.0,>=2.13.0->tensorflow-addons[tensorflow])\n",
      "  Using cached keras-2.15.0-py3-none-any.whl.metadata (2.4 kB)\n",
      "Requirement already satisfied: pyparsing!=3.0.5,>=2.0.2 in /home/ec2-user/anaconda3/envs/tensorflow2_p310/lib/python3.10/site-packages (from packaging->tensorflow-addons[tensorflow]) (3.2.1)\n",
      "Requirement already satisfied: wheel<1.0,>=0.23.0 in /home/ec2-user/anaconda3/envs/tensorflow2_p310/lib/python3.10/site-packages (from astunparse>=1.6.0->tensorflow<2.16.0,>=2.13.0->tensorflow-addons[tensorflow]) (0.45.1)\n",
      "Requirement already satisfied: google-auth<3,>=1.6.3 in /home/ec2-user/anaconda3/envs/tensorflow2_p310/lib/python3.10/site-packages (from tensorboard<2.16,>=2.15->tensorflow<2.16.0,>=2.13.0->tensorflow-addons[tensorflow]) (2.38.0)\n",
      "Requirement already satisfied: google-auth-oauthlib<2,>=0.5 in /home/ec2-user/anaconda3/envs/tensorflow2_p310/lib/python3.10/site-packages (from tensorboard<2.16,>=2.15->tensorflow<2.16.0,>=2.13.0->tensorflow-addons[tensorflow]) (1.2.1)\n",
      "Requirement already satisfied: markdown>=2.6.8 in /home/ec2-user/anaconda3/envs/tensorflow2_p310/lib/python3.10/site-packages (from tensorboard<2.16,>=2.15->tensorflow<2.16.0,>=2.13.0->tensorflow-addons[tensorflow]) (3.7)\n",
      "Requirement already satisfied: requests<3,>=2.21.0 in /home/ec2-user/anaconda3/envs/tensorflow2_p310/lib/python3.10/site-packages (from tensorboard<2.16,>=2.15->tensorflow<2.16.0,>=2.13.0->tensorflow-addons[tensorflow]) (2.32.3)\n",
      "Requirement already satisfied: tensorboard-data-server<0.8.0,>=0.7.0 in /home/ec2-user/anaconda3/envs/tensorflow2_p310/lib/python3.10/site-packages (from tensorboard<2.16,>=2.15->tensorflow<2.16.0,>=2.13.0->tensorflow-addons[tensorflow]) (0.7.2)\n",
      "Requirement already satisfied: werkzeug>=1.0.1 in /home/ec2-user/anaconda3/envs/tensorflow2_p310/lib/python3.10/site-packages (from tensorboard<2.16,>=2.15->tensorflow<2.16.0,>=2.13.0->tensorflow-addons[tensorflow]) (3.1.3)\n",
      "Requirement already satisfied: cachetools<6.0,>=2.0.0 in /home/ec2-user/anaconda3/envs/tensorflow2_p310/lib/python3.10/site-packages (from google-auth<3,>=1.6.3->tensorboard<2.16,>=2.15->tensorflow<2.16.0,>=2.13.0->tensorflow-addons[tensorflow]) (5.5.2)\n",
      "Requirement already satisfied: pyasn1-modules>=0.2.1 in /home/ec2-user/anaconda3/envs/tensorflow2_p310/lib/python3.10/site-packages (from google-auth<3,>=1.6.3->tensorboard<2.16,>=2.15->tensorflow<2.16.0,>=2.13.0->tensorflow-addons[tensorflow]) (0.4.2)\n",
      "Requirement already satisfied: rsa<5,>=3.1.4 in /home/ec2-user/anaconda3/envs/tensorflow2_p310/lib/python3.10/site-packages (from google-auth<3,>=1.6.3->tensorboard<2.16,>=2.15->tensorflow<2.16.0,>=2.13.0->tensorflow-addons[tensorflow]) (4.7.2)\n",
      "Requirement already satisfied: requests-oauthlib>=0.7.0 in /home/ec2-user/anaconda3/envs/tensorflow2_p310/lib/python3.10/site-packages (from google-auth-oauthlib<2,>=0.5->tensorboard<2.16,>=2.15->tensorflow<2.16.0,>=2.13.0->tensorflow-addons[tensorflow]) (2.0.0)\n",
      "Requirement already satisfied: charset_normalizer<4,>=2 in /home/ec2-user/anaconda3/envs/tensorflow2_p310/lib/python3.10/site-packages (from requests<3,>=2.21.0->tensorboard<2.16,>=2.15->tensorflow<2.16.0,>=2.13.0->tensorflow-addons[tensorflow]) (3.4.1)\n",
      "Requirement already satisfied: idna<4,>=2.5 in /home/ec2-user/anaconda3/envs/tensorflow2_p310/lib/python3.10/site-packages (from requests<3,>=2.21.0->tensorboard<2.16,>=2.15->tensorflow<2.16.0,>=2.13.0->tensorflow-addons[tensorflow]) (3.10)\n",
      "Requirement already satisfied: urllib3<3,>=1.21.1 in /home/ec2-user/anaconda3/envs/tensorflow2_p310/lib/python3.10/site-packages (from requests<3,>=2.21.0->tensorboard<2.16,>=2.15->tensorflow<2.16.0,>=2.13.0->tensorflow-addons[tensorflow]) (1.26.19)\n",
      "Requirement already satisfied: certifi>=2017.4.17 in /home/ec2-user/anaconda3/envs/tensorflow2_p310/lib/python3.10/site-packages (from requests<3,>=2.21.0->tensorboard<2.16,>=2.15->tensorflow<2.16.0,>=2.13.0->tensorflow-addons[tensorflow]) (2025.1.31)\n",
      "Requirement already satisfied: MarkupSafe>=2.1.1 in /home/ec2-user/anaconda3/envs/tensorflow2_p310/lib/python3.10/site-packages (from werkzeug>=1.0.1->tensorboard<2.16,>=2.15->tensorflow<2.16.0,>=2.13.0->tensorflow-addons[tensorflow]) (3.0.2)\n",
      "Requirement already satisfied: pyasn1<0.7.0,>=0.6.1 in /home/ec2-user/anaconda3/envs/tensorflow2_p310/lib/python3.10/site-packages (from pyasn1-modules>=0.2.1->google-auth<3,>=1.6.3->tensorboard<2.16,>=2.15->tensorflow<2.16.0,>=2.13.0->tensorflow-addons[tensorflow]) (0.6.1)\n",
      "Requirement already satisfied: oauthlib>=3.0.0 in /home/ec2-user/anaconda3/envs/tensorflow2_p310/lib/python3.10/site-packages (from requests-oauthlib>=0.7.0->google-auth-oauthlib<2,>=0.5->tensorboard<2.16,>=2.15->tensorflow<2.16.0,>=2.13.0->tensorflow-addons[tensorflow]) (3.2.2)\n",
      "Using cached keras-2.15.0-py3-none-any.whl (1.7 MB)\n",
      "Installing collected packages: keras\n",
      "  Attempting uninstall: keras\n",
      "    Found existing installation: Keras 2.3.1\n",
      "    Uninstalling Keras-2.3.1:\n",
      "      Successfully uninstalled Keras-2.3.1\n",
      "\u001b[31mERROR: pip's dependency resolver does not currently take into account all the packages that are installed. This behaviour is the source of the following dependency conflicts.\n",
      "tf-keras 2.16.0 requires tensorflow<2.17,>=2.16, but you have tensorflow 2.15.1 which is incompatible.\u001b[0m\u001b[31m\n",
      "\u001b[0mSuccessfully installed keras-2.15.0\n",
      "Note: you may need to restart the kernel to use updated packages.\n"
     ]
    }
   ],
   "source": [
    "pip install tensorflow-addons[tensorflow]"
   ]
  },
  {
   "cell_type": "code",
   "execution_count": 6,
   "id": "a3dcc221-e733-4320-84b2-3552f2636018",
   "metadata": {},
   "outputs": [
    {
     "name": "stderr",
     "output_type": "stream",
     "text": [
      "2025-03-29 04:41:32.880302: E external/local_xla/xla/stream_executor/cuda/cuda_dnn.cc:9261] Unable to register cuDNN factory: Attempting to register factory for plugin cuDNN when one has already been registered\n",
      "2025-03-29 04:41:32.880350: E external/local_xla/xla/stream_executor/cuda/cuda_fft.cc:607] Unable to register cuFFT factory: Attempting to register factory for plugin cuFFT when one has already been registered\n",
      "2025-03-29 04:41:33.016787: E external/local_xla/xla/stream_executor/cuda/cuda_blas.cc:1515] Unable to register cuBLAS factory: Attempting to register factory for plugin cuBLAS when one has already been registered\n",
      "2025-03-29 04:41:33.306512: I tensorflow/core/platform/cpu_feature_guard.cc:182] This TensorFlow binary is optimized to use available CPU instructions in performance-critical operations.\n",
      "To enable the following instructions: AVX2 AVX512F FMA, in other operations, rebuild TensorFlow with the appropriate compiler flags.\n",
      "2025-03-29 04:41:35.295416: W tensorflow/compiler/tf2tensorrt/utils/py_utils.cc:38] TF-TRT Warning: Could not find TensorRT\n"
     ]
    }
   ],
   "source": [
    "import tensorflow as tf\n",
    "from tensorflow import keras\n",
    "from tensorflow.keras import layers"
   ]
  },
  {
   "cell_type": "code",
   "execution_count": 7,
   "id": "e3ef880f-a50f-4537-81bc-e22d38e1139b",
   "metadata": {},
   "outputs": [],
   "source": [
    "TARGET_SHAPE = (160, 192, 224)"
   ]
  },
  {
   "cell_type": "code",
   "execution_count": 8,
   "id": "56187f00-012e-45ec-b46f-53b4741e6daf",
   "metadata": {},
   "outputs": [],
   "source": [
    "def ensure_shape(array, target_shape=TARGET_SHAPE):\n",
    "    if array.shape != target_shape:\n",
    "        return np.resize(array, target_shape)  # Resize to match shape\n",
    "    return array"
   ]
  },
  {
   "cell_type": "code",
   "execution_count": 9,
   "id": "40c5b40a-c28d-4885-ac3d-ba7629341640",
   "metadata": {},
   "outputs": [],
   "source": [
    "images = np.array([ensure_shape(img) for img in df[\"image\"]]).astype(np.float32)\n",
    "labels = np.array([ensure_shape(lbl) for lbl in df[\"label\"]]).astype(np.uint8)"
   ]
  },
  {
   "cell_type": "code",
   "execution_count": 10,
   "id": "1711a41e-6c47-4e71-89ab-49f2234f2950",
   "metadata": {},
   "outputs": [],
   "source": [
    "split = int(0.8 * len(images))\n",
    "x_train, x_test = images[:split], images[split:]\n",
    "y_train, y_test = labels[:split], labels[split:]"
   ]
  },
  {
   "cell_type": "code",
   "execution_count": 11,
   "id": "49aade18-25b9-4e03-a1ee-fd1161a2c20e",
   "metadata": {},
   "outputs": [],
   "source": [
    "def attention_block(x, gating, inter_channels):\n",
    "    theta_x = layers.Conv3D(inter_channels, kernel_size=1, strides=1, padding='same')(x)\n",
    "    phi_g = layers.Conv3D(inter_channels, kernel_size=1, strides=1, padding='same')(gating)\n",
    "    \n",
    "    concat = layers.Add()([theta_x, phi_g])\n",
    "    act = layers.Activation(\"relu\")(concat)\n",
    "    \n",
    "    psi = layers.Conv3D(1, kernel_size=1, strides=1, padding='same', activation=\"sigmoid\")(act)\n",
    "    return layers.Multiply()([x, psi])"
   ]
  },
  {
   "cell_type": "code",
   "execution_count": 12,
   "id": "5bd36fed-f673-4f33-90ce-84be865a8dc2",
   "metadata": {},
   "outputs": [],
   "source": [
    "def unet_3d_attention(input_shape):\n",
    "    inputs = layers.Input(shape=input_shape)\n",
    "\n",
    "    # Encoder\n",
    "    conv1 = layers.Conv3D(16, 3, activation=\"relu\", padding=\"same\")(inputs)\n",
    "    conv1 = layers.Conv3D(16, 3, activation=\"relu\", padding=\"same\")(conv1)\n",
    "    pool1 = layers.MaxPooling3D(pool_size=(2, 2, 2))(conv1)\n",
    "\n",
    "    conv2 = layers.Conv3D(32, 3, activation=\"relu\", padding=\"same\")(pool1)\n",
    "    conv2 = layers.Conv3D(32, 3, activation=\"relu\", padding=\"same\")(conv2)\n",
    "    pool2 = layers.MaxPooling3D(pool_size=(2, 2, 2))(conv2)\n",
    "\n",
    "    conv3 = layers.Conv3D(64, 3, activation=\"relu\", padding=\"same\")(pool2)\n",
    "    conv3 = layers.Conv3D(64, 3, activation=\"relu\", padding=\"same\")(conv3)\n",
    "\n",
    "    # Decoder with Attention\n",
    "    up2 = layers.UpSampling3D(size=(2, 2, 2))(conv3)\n",
    "    att2 = attention_block(conv2, up2, 32)\n",
    "    merge2 = layers.Concatenate()([att2, up2])\n",
    "    conv4 = layers.Conv3D(32, 3, activation=\"relu\", padding=\"same\")(merge2)\n",
    "    conv4 = layers.Conv3D(32, 3, activation=\"relu\", padding=\"same\")(conv4)\n",
    "\n",
    "    up1 = layers.UpSampling3D(size=(2, 2, 2))(conv4)\n",
    "    att1 = attention_block(conv1, up1, 16)\n",
    "    merge1 = layers.Concatenate()([att1, up1])\n",
    "    conv5 = layers.Conv3D(16, 3, activation=\"relu\", padding=\"same\")(merge1)\n",
    "    conv5 = layers.Conv3D(16, 3, activation=\"relu\", padding=\"same\")(conv5)\n",
    "\n",
    "    outputs = layers.Conv3D(1, 1, activation=\"sigmoid\")(conv5)\n",
    "\n",
    "    return keras.Model(inputs, outputs)"
   ]
  },
  {
   "cell_type": "code",
   "execution_count": 13,
   "id": "38b9fd4f-364f-4c17-b12b-bd8e1feda3e7",
   "metadata": {},
   "outputs": [],
   "source": [
    "def dice_loss(y_true, y_pred, smooth=1e-6):\n",
    "    y_true = tf.cast(y_true, tf.float32)\n",
    "    y_pred = tf.cast(y_pred, tf.float32)\n",
    "\n",
    "    intersection = tf.reduce_sum(y_true * y_pred)\n",
    "    union = tf.reduce_sum(y_true) + tf.reduce_sum(y_pred)\n",
    "\n",
    "    dice = (2. * intersection + smooth) / (union + smooth)\n",
    "    return 1 - dice  # We subtract from 1 because we minimize loss"
   ]
  },
  {
   "cell_type": "code",
   "execution_count": 14,
   "id": "6d9a9437-02b2-4f0c-ac42-a09efea252e2",
   "metadata": {},
   "outputs": [
    {
     "name": "stderr",
     "output_type": "stream",
     "text": [
      "2025-03-29 04:42:06.686413: E external/local_xla/xla/stream_executor/cuda/cuda_driver.cc:274] failed call to cuInit: CUDA_ERROR_NO_DEVICE: no CUDA-capable device is detected\n"
     ]
    },
    {
     "name": "stdout",
     "output_type": "stream",
     "text": [
      "Model: \"model\"\n",
      "__________________________________________________________________________________________________\n",
      " Layer (type)                Output Shape                 Param #   Connected to                  \n",
      "==================================================================================================\n",
      " input_1 (InputLayer)        [(None, 160, 192, 224, 1)]   0         []                            \n",
      "                                                                                                  \n",
      " conv3d (Conv3D)             (None, 160, 192, 224, 16)    448       ['input_1[0][0]']             \n",
      "                                                                                                  \n",
      " conv3d_1 (Conv3D)           (None, 160, 192, 224, 16)    6928      ['conv3d[0][0]']              \n",
      "                                                                                                  \n",
      " max_pooling3d (MaxPooling3  (None, 80, 96, 112, 16)      0         ['conv3d_1[0][0]']            \n",
      " D)                                                                                               \n",
      "                                                                                                  \n",
      " conv3d_2 (Conv3D)           (None, 80, 96, 112, 32)      13856     ['max_pooling3d[0][0]']       \n",
      "                                                                                                  \n",
      " conv3d_3 (Conv3D)           (None, 80, 96, 112, 32)      27680     ['conv3d_2[0][0]']            \n",
      "                                                                                                  \n",
      " max_pooling3d_1 (MaxPoolin  (None, 40, 48, 56, 32)       0         ['conv3d_3[0][0]']            \n",
      " g3D)                                                                                             \n",
      "                                                                                                  \n",
      " conv3d_4 (Conv3D)           (None, 40, 48, 56, 64)       55360     ['max_pooling3d_1[0][0]']     \n",
      "                                                                                                  \n",
      " conv3d_5 (Conv3D)           (None, 40, 48, 56, 64)       110656    ['conv3d_4[0][0]']            \n",
      "                                                                                                  \n",
      " up_sampling3d (UpSampling3  (None, 80, 96, 112, 64)      0         ['conv3d_5[0][0]']            \n",
      " D)                                                                                               \n",
      "                                                                                                  \n",
      " conv3d_6 (Conv3D)           (None, 80, 96, 112, 32)      1056      ['conv3d_3[0][0]']            \n",
      "                                                                                                  \n",
      " conv3d_7 (Conv3D)           (None, 80, 96, 112, 32)      2080      ['up_sampling3d[0][0]']       \n",
      "                                                                                                  \n",
      " add (Add)                   (None, 80, 96, 112, 32)      0         ['conv3d_6[0][0]',            \n",
      "                                                                     'conv3d_7[0][0]']            \n",
      "                                                                                                  \n",
      " activation (Activation)     (None, 80, 96, 112, 32)      0         ['add[0][0]']                 \n",
      "                                                                                                  \n",
      " conv3d_8 (Conv3D)           (None, 80, 96, 112, 1)       33        ['activation[0][0]']          \n",
      "                                                                                                  \n",
      " multiply (Multiply)         (None, 80, 96, 112, 32)      0         ['conv3d_3[0][0]',            \n",
      "                                                                     'conv3d_8[0][0]']            \n",
      "                                                                                                  \n",
      " concatenate (Concatenate)   (None, 80, 96, 112, 96)      0         ['multiply[0][0]',            \n",
      "                                                                     'up_sampling3d[0][0]']       \n",
      "                                                                                                  \n",
      " conv3d_9 (Conv3D)           (None, 80, 96, 112, 32)      82976     ['concatenate[0][0]']         \n",
      "                                                                                                  \n",
      " conv3d_10 (Conv3D)          (None, 80, 96, 112, 32)      27680     ['conv3d_9[0][0]']            \n",
      "                                                                                                  \n",
      " up_sampling3d_1 (UpSamplin  (None, 160, 192, 224, 32)    0         ['conv3d_10[0][0]']           \n",
      " g3D)                                                                                             \n",
      "                                                                                                  \n",
      " conv3d_11 (Conv3D)          (None, 160, 192, 224, 16)    272       ['conv3d_1[0][0]']            \n",
      "                                                                                                  \n",
      " conv3d_12 (Conv3D)          (None, 160, 192, 224, 16)    528       ['up_sampling3d_1[0][0]']     \n",
      "                                                                                                  \n",
      " add_1 (Add)                 (None, 160, 192, 224, 16)    0         ['conv3d_11[0][0]',           \n",
      "                                                                     'conv3d_12[0][0]']           \n",
      "                                                                                                  \n",
      " activation_1 (Activation)   (None, 160, 192, 224, 16)    0         ['add_1[0][0]']               \n",
      "                                                                                                  \n",
      " conv3d_13 (Conv3D)          (None, 160, 192, 224, 1)     17        ['activation_1[0][0]']        \n",
      "                                                                                                  \n",
      " multiply_1 (Multiply)       (None, 160, 192, 224, 16)    0         ['conv3d_1[0][0]',            \n",
      "                                                                     'conv3d_13[0][0]']           \n",
      "                                                                                                  \n",
      " concatenate_1 (Concatenate  (None, 160, 192, 224, 48)    0         ['multiply_1[0][0]',          \n",
      " )                                                                   'up_sampling3d_1[0][0]']     \n",
      "                                                                                                  \n",
      " conv3d_14 (Conv3D)          (None, 160, 192, 224, 16)    20752     ['concatenate_1[0][0]']       \n",
      "                                                                                                  \n",
      " conv3d_15 (Conv3D)          (None, 160, 192, 224, 16)    6928      ['conv3d_14[0][0]']           \n",
      "                                                                                                  \n",
      " conv3d_16 (Conv3D)          (None, 160, 192, 224, 1)     17        ['conv3d_15[0][0]']           \n",
      "                                                                                                  \n",
      "==================================================================================================\n",
      "Total params: 357267 (1.36 MB)\n",
      "Trainable params: 357267 (1.36 MB)\n",
      "Non-trainable params: 0 (0.00 Byte)\n",
      "__________________________________________________________________________________________________\n"
     ]
    }
   ],
   "source": [
    "# Compile Model\n",
    "model = unet_3d_attention(input_shape=(160, 192, 224, 1))\n",
    "model.compile(optimizer=\"adam\", loss=dice_loss, metrics=[\"accuracy\"])\n",
    "model.summary()"
   ]
  },
  {
   "cell_type": "code",
   "execution_count": 15,
   "id": "1145a752-12e0-4ecc-b2b7-fe4d1f28abbc",
   "metadata": {},
   "outputs": [],
   "source": [
    "from tensorflow.keras.callbacks import EarlyStopping\n",
    "\n",
    "# Define Early Stopping\n",
    "early_stopping = EarlyStopping(\n",
    "    monitor=\"val_accuracy\",  # Stop when validation accuracy stops improving\n",
    "    patience=3,  # Number of epochs to wait before stopping\n",
    "    restore_best_weights=True,  # Restore model to best epoch\n",
    "    verbose=1,  # Show message when training stops,\n",
    "    mode='max',   \n",
    ")\n"
   ]
  },
  {
   "cell_type": "code",
   "execution_count": null,
   "id": "ea8914fb-a22f-4d86-b74a-a738b5d5a878",
   "metadata": {},
   "outputs": [
    {
     "name": "stdout",
     "output_type": "stream",
     "text": [
      "Epoch 1/5\n"
     ]
    },
    {
     "name": "stderr",
     "output_type": "stream",
     "text": [
      "2025-03-29 04:43:31.228559: W external/local_tsl/tsl/framework/cpu_allocator_impl.cc:83] Allocation of 35672555520 exceeds 10% of free system memory.\n",
      "2025-03-29 04:43:31.228615: W external/local_tsl/tsl/framework/cpu_allocator_impl.cc:83] Allocation of 35672555520 exceeds 10% of free system memory.\n"
     ]
    },
    {
     "name": "stdout",
     "output_type": "stream",
     "text": [
      " 1/81 [..............................] - ETA: 6:19:38 - loss: 0.0885 - accuracy: 0.5013"
     ]
    },
    {
     "name": "stderr",
     "output_type": "stream",
     "text": [
      "2025-03-29 04:47:59.433793: W external/local_tsl/tsl/framework/cpu_allocator_impl.cc:83] Allocation of 35672555520 exceeds 10% of free system memory.\n",
      "2025-03-29 04:47:59.433846: W external/local_tsl/tsl/framework/cpu_allocator_impl.cc:83] Allocation of 35672555520 exceeds 10% of free system memory.\n"
     ]
    },
    {
     "name": "stdout",
     "output_type": "stream",
     "text": [
      " 2/81 [..............................] - ETA: 5:51:36 - loss: 0.0740 - accuracy: 0.2506"
     ]
    },
    {
     "name": "stderr",
     "output_type": "stream",
     "text": [
      "2025-03-29 04:52:26.844813: W external/local_tsl/tsl/framework/cpu_allocator_impl.cc:83] Allocation of 35672555520 exceeds 10% of free system memory.\n"
     ]
    },
    {
     "name": "stdout",
     "output_type": "stream",
     "text": [
      " 5/81 [>.............................] - ETA: 5:39:57 - loss: -0.2555 - accuracy: 0.1003"
     ]
    }
   ],
   "source": [
    "\n",
    "# Train Model\n",
    "history = model.fit(\n",
    "    x_train, y_train,\n",
    "    validation_data=(x_test, y_test),\n",
    "    epochs=5,\n",
    "    batch_size=4,\n",
    "    callbacks=[early_stopping]\n",
    ")"
   ]
  },
  {
   "cell_type": "code",
   "execution_count": null,
   "id": "c3d8c586-0940-45e2-9de6-3e940731cd64",
   "metadata": {},
   "outputs": [],
   "source": [
    "# Evaluate Model\n",
    "test_loss, test_acc = model.evaluate(x_test, y_test)\n",
    "print(f\"Test Accuracy: {test_acc:.4f}\")\n",
    "\n",
    "# Compute Dice Score\n",
    "y_pred = model.predict(x_test)\n",
    "y_pred_bin = (y_pred > 0.5).astype(np.uint8)  # Binarize predictions\n",
    "\n",
    "# Dice Score Calculation\n",
    "dice_score = 2 * np.sum(y_test * y_pred_bin) / (np.sum(y_test) + np.sum(y_pred_bin))\n",
    "print(f\"Dice Score: {dice_score:.4f}\")"
   ]
  },
  {
   "cell_type": "code",
   "execution_count": null,
   "id": "4d2e7a4e-4e67-4d8e-906d-fb1d20ff6fac",
   "metadata": {},
   "outputs": [],
   "source": [
    "model.save(\"my_model.h5\")"
   ]
  },
  {
   "cell_type": "code",
   "execution_count": 5,
   "id": "544752d0-b47a-42b0-a9a9-66af47022532",
   "metadata": {},
   "outputs": [
    {
     "name": "stdout",
     "output_type": "stream",
     "text": [
      "                                               image  \\\n",
      "0  [[[0.0, 0.0, 0.0, 0.0, 0.0, 0.0, 0.0, 0.0, 0.0...   \n",
      "1  [[[0.0, 0.0, 0.0, 0.0, 0.0, 0.0, 0.0, 0.0, 0.0...   \n",
      "2  [[[0.0, 0.0, 0.0, 0.0, 0.0, 0.0, 0.0, 0.0, 0.0...   \n",
      "3  [[[0.0, 0.0, 0.0, 0.0, 0.0, 0.0, 0.0, 0.0, 0.0...   \n",
      "4  [[[0.0, 0.0, 0.0, 0.0, 0.0, 0.0, 0.0, 0.0, 0.0...   \n",
      "\n",
      "                                               label  1       2       3     4  \\\n",
      "0  [[[0, 0, 0, 0, 0, 0, 0, 0, 0, 0, 0, 0, 0, 0, 0...  0  308299  333831  9304   \n",
      "1  [[[0, 0, 0, 0, 0, 0, 0, 0, 0, 0, 0, 0, 0, 0, 0...  0  274718  323393  7891   \n",
      "2  [[[0, 0, 0, 0, 0, 0, 0, 0, 0, 0, 0, 0, 0, 0, 0...  0  311795  350174  6324   \n",
      "3  [[[0, 0, 0, 0, 0, 0, 0, 0, 0, 0, 0, 0, 0, 0, 0...  0  301307  296273  8229   \n",
      "4  [[[0, 0, 0, 0, 0, 0, 0, 0, 0, 0, 0, 0, 0, 0, 0...  0  277590  326161  5215   \n",
      "\n",
      "     5  \n",
      "0  175  \n",
      "1  145  \n",
      "2  320  \n",
      "3  600  \n",
      "4  427  \n"
     ]
    }
   ],
   "source": [
    "import numpy as np\n",
    "\n",
    "def compute_region_volumes(label_array, labels):\n",
    "    \"\"\"Calculate the volume (number of voxels) for each segmented brain region\"\"\"\n",
    "    return {label: np.sum(label_array == label) for label in labels}\n",
    "\n",
    "# Define unique labels (example: 1 = Hippocampus, 2 = Ventricles, etc.)\n",
    "labels = [1, 2, 3, 4, 5]  # Replace with actual label IDs from your dataset\n",
    "\n",
    "# Compute volumes for each patient\n",
    "df[\"region_volumes\"] = df[\"label\"].apply(lambda x: compute_region_volumes(x, labels))\n",
    "\n",
    "# Convert dictionary to separate columns\n",
    "volumes_df = df[\"region_volumes\"].apply(pd.Series)\n",
    "df = pd.concat([df, volumes_df], axis=1).drop(columns=[\"region_volumes\"])\n",
    "\n",
    "print(df.head())  # Now, the DataFrame includes volumes for each brain region.\n"
   ]
  },
  {
   "cell_type": "code",
   "execution_count": 7,
   "id": "9f949602-6313-4c1f-b2bf-1fe6b382b83a",
   "metadata": {},
   "outputs": [
    {
     "name": "stdout",
     "output_type": "stream",
     "text": [
      "T-test for Hippocampus Volume: t-stat=nan, p-value=nan\n"
     ]
    }
   ],
   "source": [
    "import numpy as np\n",
    "from scipy.stats import ttest_ind\n",
    "\n",
    "# Ensure group labels are assigned correctly\n",
    "df[\"group\"] = np.where(np.arange(len(df)) < len(df) // 2, \"Healthy\", \"Diseased\")\n",
    "\n",
    "# Ensure label 1 exists in columns\n",
    "if 1 in df.columns:\n",
    "    healthy_volumes = df.loc[df[\"group\"] == \"Healthy\", 1]\n",
    "    diseased_volumes = df.loc[df[\"group\"] == \"Diseased\", 1]\n",
    "\n",
    "    # Perform t-test\n",
    "    t_stat, p_value = ttest_ind(healthy_volumes, diseased_volumes)\n",
    "    print(f\"T-test for Hippocampus Volume: t-stat={t_stat:.3f}, p-value={p_value:.3f}\")\n",
    "else:\n",
    "    print(\"Error: Label 1 not found in DataFrame columns\")\n"
   ]
  },
  {
   "cell_type": "code",
   "execution_count": 9,
   "id": "cffa67bc-9324-474b-84ec-01cdd854679b",
   "metadata": {},
   "outputs": [
    {
     "data": {
      "text/html": [
       "<pre style=\"white-space:pre;overflow-x:auto;line-height:normal;font-family:Menlo,'DejaVu Sans Mono',consolas,'Courier New',monospace\"><span style=\"color: #7fbfbf; text-decoration-color: #7fbfbf\">[03/29/25 16:04:33] </span><span style=\"color: #d7af00; text-decoration-color: #d7af00; font-weight: bold\">WARNING </span> Matplotlib is building the font cache; this may take a moment.    <a href=\"file:///home/ec2-user/anaconda3/envs/tensorflow2_p310/lib/python3.10/site-packages/matplotlib/font_manager.py\" target=\"_blank\"><span style=\"color: #7f7f7f; text-decoration-color: #7f7f7f\">font_manager.py</span></a><span style=\"color: #7f7f7f; text-decoration-color: #7f7f7f\">:</span><a href=\"file:///home/ec2-user/anaconda3/envs/tensorflow2_p310/lib/python3.10/site-packages/matplotlib/font_manager.py#1095\" target=\"_blank\"><span style=\"color: #7f7f7f; text-decoration-color: #7f7f7f\">1095</span></a>\n",
       "</pre>\n"
      ],
      "text/plain": [
       "\u001b[2;36m[03/29/25 16:04:33]\u001b[0m\u001b[2;36m \u001b[0m\u001b[1;38;2;215;175;0mWARNING \u001b[0m Matplotlib is building the font cache; this may take a moment.    \u001b]8;id=678268;file:///home/ec2-user/anaconda3/envs/tensorflow2_p310/lib/python3.10/site-packages/matplotlib/font_manager.py\u001b\\\u001b[2mfont_manager.py\u001b[0m\u001b]8;;\u001b\\\u001b[2m:\u001b[0m\u001b]8;id=374648;file:///home/ec2-user/anaconda3/envs/tensorflow2_p310/lib/python3.10/site-packages/matplotlib/font_manager.py#1095\u001b\\\u001b[2m1095\u001b[0m\u001b]8;;\u001b\\\n"
      ]
     },
     "metadata": {},
     "output_type": "display_data"
    },
    {
     "data": {
      "text/html": [
       "<pre style=\"white-space:pre;overflow-x:auto;line-height:normal;font-family:Menlo,'DejaVu Sans Mono',consolas,'Courier New',monospace\"><span style=\"color: #7fbfbf; text-decoration-color: #7fbfbf\">[03/29/25 16:04:35] </span><span style=\"color: #0069ff; text-decoration-color: #0069ff; font-weight: bold\">INFO    </span> generated new fontManager                                         <a href=\"file:///home/ec2-user/anaconda3/envs/tensorflow2_p310/lib/python3.10/site-packages/matplotlib/font_manager.py\" target=\"_blank\"><span style=\"color: #7f7f7f; text-decoration-color: #7f7f7f\">font_manager.py</span></a><span style=\"color: #7f7f7f; text-decoration-color: #7f7f7f\">:</span><a href=\"file:///home/ec2-user/anaconda3/envs/tensorflow2_p310/lib/python3.10/site-packages/matplotlib/font_manager.py#1639\" target=\"_blank\"><span style=\"color: #7f7f7f; text-decoration-color: #7f7f7f\">1639</span></a>\n",
       "</pre>\n"
      ],
      "text/plain": [
       "\u001b[2;36m[03/29/25 16:04:35]\u001b[0m\u001b[2;36m \u001b[0m\u001b[1;38;2;0;105;255mINFO    \u001b[0m generated new fontManager                                         \u001b]8;id=618666;file:///home/ec2-user/anaconda3/envs/tensorflow2_p310/lib/python3.10/site-packages/matplotlib/font_manager.py\u001b\\\u001b[2mfont_manager.py\u001b[0m\u001b]8;;\u001b\\\u001b[2m:\u001b[0m\u001b]8;id=3861;file:///home/ec2-user/anaconda3/envs/tensorflow2_p310/lib/python3.10/site-packages/matplotlib/font_manager.py#1639\u001b\\\u001b[2m1639\u001b[0m\u001b]8;;\u001b\\\n"
      ]
     },
     "metadata": {},
     "output_type": "display_data"
    },
    {
     "name": "stderr",
     "output_type": "stream",
     "text": [
      "/tmp/ipykernel_13668/1659701705.py:4: FutureWarning: \n",
      "\n",
      "Passing `palette` without assigning `hue` is deprecated and will be removed in v0.14.0. Assign the `x` variable to `hue` and set `legend=False` for the same effect.\n",
      "\n",
      "  sns.boxplot(x=\"group\", y=1, data=df, palette=\"Set2\")  # 1 = Hippocampus\n"
     ]
    },
    {
     "data": {
      "image/png": "[encoded data removed]",
      "text/plain": [
       "<Figure size 640x480 with 1 Axes>"
      ]
     },
     "metadata": {},
     "output_type": "display_data"
    }
   ],
   "source": [
    "import seaborn as sns\n",
    "import matplotlib.pyplot as plt\n",
    "\n",
    "sns.boxplot(x=\"group\", y=1, data=df, palette=\"Set2\")  # 1 = Hippocampus\n",
    "plt.title(\"Hippocampus Volume Across Groups\")\n",
    "plt.ylabel(\"Volume (Voxels)\")\n",
    "plt.show()\n"
   ]
  },
  {
   "cell_type": "code",
   "execution_count": null,
   "id": "0d2ace99-5a6c-4677-ad00-e1906e2b4841",
   "metadata": {},
   "outputs": [],
   "source": [
    "import seaborn as sns\n",
    "\n",
    "# Compute correlation between brain region volumes\n",
    "corr_matrix = df[labels].corr()\n",
    "\n",
    "sns.heatmap(corr_matrix, annot=True, cmap=\"coolwarm\", fmt=\".2f\")\n",
    "plt.title(\"Correlation of Segmented Brain Regions\")\n",
    "plt.show()\n"
   ]
  },
  {
   "cell_type": "code",
   "execution_count": 8,
   "id": "72b67bb2-5b3f-4aff-a10d-a10e3e1524d6",
   "metadata": {},
   "outputs": [
    {
     "name": "stdout",
     "output_type": "stream",
     "text": [
      "Healthy group size: 201\n",
      "Diseased group size: 202\n"
     ]
    }
   ],
   "source": [
    "print(f\"Healthy group size: {healthy_volumes.shape[0]}\")\n",
    "print(f\"Diseased group size: {diseased_volumes.shape[0]}\")\n"
   ]
  },
  {
   "cell_type": "code",
   "execution_count": null,
   "id": "9ebbb2f6-d67e-487f-9fd1-e7675a7f6885",
   "metadata": {},
   "outputs": [],
   "source": []
  }
 ],
 "metadata": {
  "kernelspec": {
   "display_name": "conda_tensorflow2_p310",
   "language": "python",
   "name": "conda_tensorflow2_p310"
  },
  "language_info": {
   "codemirror_mode": {
    "name": "ipython",
    "version": 3
   },
   "file_extension": ".py",
   "mimetype": "text/x-python",
   "name": "python",
   "nbconvert_exporter": "python",
   "pygments_lexer": "ipython3",
   "version": "3.10.16"
  }
 },
 "nbformat": 4,
 "nbformat_minor": 5
}
